{
 "cells": [
  {
   "cell_type": "markdown",
   "metadata": {
    "slideshow": {
     "slide_type": "slide"
    }
   },
   "source": [
    "# 2017 National Combustion Meeting Cantera Workshop\n",
    "## April 23, 2017\n",
    "## Steven DeCaluwe, Ray Speth, Bryan Weber"
   ]
  },
  {
   "cell_type": "markdown",
   "metadata": {
    "slideshow": {
     "slide_type": "slide"
    }
   },
   "source": [
    "# About Us\n",
    "\n",
    "Steven:\n",
    "* Faculty at Colorado School of Mines\n",
    "* Developer for Cantera since 2012\n",
    "* Specialty in electrochemistry and non-ideal equations of state"
   ]
  },
  {
   "cell_type": "markdown",
   "metadata": {
    "slideshow": {
     "slide_type": "slide"
    }
   },
   "source": [
    "# About Us\n",
    "Ray:\n",
    "* Research Scientist at MIT\n",
    "* Developer for Cantera since 2009\n",
    "* Specialty in C++/lead developer/combustion"
   ]
  },
  {
   "cell_type": "markdown",
   "metadata": {
    "slideshow": {
     "slide_type": "slide"
    }
   },
   "source": [
    "# About Us\n",
    "\n",
    "Bryan:\n",
    "\n",
    "* Faculty at the University of Connecticut\n",
    "* Developer for Cantera since 2014\n",
    "* Specialty in combustion/Python interface"
   ]
  },
  {
   "cell_type": "markdown",
   "metadata": {
    "slideshow": {
     "slide_type": "slide"
    }
   },
   "source": [
    "# Agenda\n",
    "\n",
    "1. Installation options\n",
    "2. Where to find/how to run demos & tutorials\n",
    "3. Basic usage (calling functions within Matlab or Python, for a given CTI/XML file)\n",
    "4. Built-in models: flames, reactors, etc.\n",
    "5. Defining phases/creating input files\n",
    "6. Using Cantera as part of in-house code\n",
    "7. Contributing to Cantera development\n",
    "8. Future directions"
   ]
  },
  {
   "cell_type": "markdown",
   "metadata": {
    "slideshow": {
     "slide_type": "slide"
    }
   },
   "source": [
    "## Installing Cantera"
   ]
  },
  {
   "cell_type": "markdown",
   "metadata": {
    "slideshow": {
     "slide_type": "slide"
    }
   },
   "source": [
    "There are a number of options to install Cantera, and we will cover a few here. Installation instructions can be found in the documentation online: http://cantera.org/docs/sphinx/html/install.html\n",
    "\n",
    "1. Conda (cross-platform, Python-only)\n",
    "2. Windows (all interfaces)\n",
    "3. macOS (all interfaces)\n",
    "4. Compiling Source Code (all interfaces)"
   ]
  },
  {
   "cell_type": "markdown",
   "metadata": {
    "slideshow": {
     "slide_type": "slide"
    }
   },
   "source": [
    "# 1. Conda\n",
    "\n",
    "* Conda is a cross-platform package manager written in Python\n",
    "* Conda packages are installed from \"channels\"\n",
    "* Two installation options for conda itself:\n",
    "  * Anaconda: Complete distribution with many common packages known to work together\n",
    "  * Miniconda: Minimal distribution with just Python and conda\n",
    "* Conda's Python lives in a separate directory from the system Python and has an entirely separate environment, so packages installed in conda won't be installed for the system Python and vice-versa"
   ]
  },
  {
   "cell_type": "markdown",
   "metadata": {
    "slideshow": {
     "slide_type": "slide"
    }
   },
   "source": [
    "# 1. Conda\n",
    "\n",
    "* Once conda is installed, installing Cantera is a one-line operation:\n",
    "\n",
    "```\n",
    "conda install --channel=cantera cantera\n",
    "```\n",
    "    \n",
    "* If you would like to receive updates for Cantera, it is better to add the `cantera` channel to your configuration:\n",
    "\n",
    "```\n",
    "conda config --add channels cantera\n",
    "conda install cantera\n",
    "(later)\n",
    "conda update cantera\n",
    "```\n",
    "\n",
    "* This installs only the Python interface to Cantera. If you want another interface (Matlab, etc.), you will need to install using platform specific instructions"
   ]
  },
  {
   "cell_type": "markdown",
   "metadata": {
    "slideshow": {
     "slide_type": "slide"
    }
   },
   "source": [
    "# 2. Windows\n",
    "\n",
    "* Follow the instructions: http://cantera.org/docs/sphinx/html/install.html#windows\n",
    "* Python must be installed even if you never intend to use the Python interface\n",
    "* Make sure to match the \"bitness\" of your platform and the version of Python and Cantera you install"
   ]
  },
  {
   "cell_type": "markdown",
   "metadata": {
    "slideshow": {
     "slide_type": "slide"
    }
   },
   "source": [
    "# 3. macOS\n",
    "\n",
    "* Follow the instructions: http://cantera.org/docs/sphinx/html/install.html#mac-os-x\n",
    "* Either Homebrew or MacPorts may be used\n",
    "* Python must be installed even if you never intend to use the Python interface\n",
    "  * Note that it is not recommended to use the system installation of Python available on macOS, and instead install Python through Homebrew or MacPorts"
   ]
  },
  {
   "cell_type": "markdown",
   "metadata": {
    "slideshow": {
     "slide_type": "slide"
    }
   },
   "source": [
    "# 4. Source\n",
    "\n",
    "* To install from source, follow the compilation instructions: http://cantera.org/docs/sphinx/html/compiling/index.html\n",
    "* This is the only way to install on some Linux platforms (e.g., RHEL)\n",
    "* Building the Matlab interface currently requires an installed copy of Matlab"
   ]
  },
  {
   "cell_type": "markdown",
   "metadata": {
    "slideshow": {
     "slide_type": "slide"
    }
   },
   "source": [
    "# Examples!"
   ]
  },
  {
   "cell_type": "markdown",
   "metadata": {
    "slideshow": {
     "slide_type": "slide"
    }
   },
   "source": [
    "# Contributing to Cantera\n",
    "\n",
    "## We need your help!\n",
    "\n",
    "* Cantera is developed under the BSD 3-clause license\n",
    "* How-to for contributing: https://github.com/Cantera/cantera/blob/master/CONTRIBUTING.md\n",
    "* Code is on GitHub\n",
    "* We'd love to get bug reports, etc. on the issue tracker: https://github.com/Cantera/cantera/issues"
   ]
  },
  {
   "cell_type": "markdown",
   "metadata": {
    "slideshow": {
     "slide_type": "slide"
    }
   },
   "source": [
    "### Install GitHub Desktop: https://desktop.github.com\n",
    "### Then, create your own \"fork\" of Cantera\n",
    "\n",
    "![Fork on github](installation/fork.png)"
   ]
  },
  {
   "cell_type": "markdown",
   "metadata": {
    "slideshow": {
     "slide_type": "slide"
    }
   },
   "source": [
    "### You can make changes to your fork after you \"clone\" a copy to your local machine\n",
    "\n",
    "![My copy](installation/my-copy.png)"
   ]
  },
  {
   "cell_type": "markdown",
   "metadata": {
    "slideshow": {
     "slide_type": "slide"
    }
   },
   "source": [
    "```\n",
    "# Clone to your local computer\n",
    "git clone https://github.com/bryanwweber/cantera.git\n",
    "\n",
    "# Checkout a new \"branch\" to contain your work\n",
    "git checkout -b branch-for-my-fix\n",
    "\n",
    "# Run the tests to make sure everything works\n",
    "scons test\n",
    "\n",
    "# Add and commit any files you've changed\n",
    "git add any-changed-files\n",
    "git commit -m 'My useful commit message. Fixes #1'\n",
    "\n",
    "# \"Push\" the changes to your personal fork (known as origin by default)\n",
    "git push -u origin branch-for-my-fix  # Only needed the first time, after that git push is sufficient\n",
    "```"
   ]
  },
  {
   "cell_type": "markdown",
   "metadata": {
    "slideshow": {
     "slide_type": "slide"
    }
   },
   "source": [
    "### Tell us you've made some changes and you want us to pull them in (Pull Request)\n",
    "\n",
    "![pull request](installation/pull-request.png)"
   ]
  },
  {
   "cell_type": "markdown",
   "metadata": {
    "collapsed": true,
    "slideshow": {
     "slide_type": "slide"
    }
   },
   "source": [
    "### Fill in the details of your pull request\n",
    "\n",
    "![pr-detail](installation/pr-detail.png)"
   ]
  },
  {
   "cell_type": "markdown",
   "metadata": {
    "slideshow": {
     "slide_type": "slide"
    }
   },
   "source": [
    "### Your changes will be automatically tested, so check the results and try to fix any errors. One of the maintainers will look at your changes and give you feedback on how to improve\n",
    "\n",
    "![checks-finished](installation/checks-finished.png)"
   ]
  }
 ],
 "metadata": {
  "celltoolbar": "Slideshow",
  "kernelspec": {
   "display_name": "Python [default]",
   "language": "python",
   "name": "python3"
  },
  "language_info": {
   "codemirror_mode": {
    "name": "ipython",
    "version": 3
   },
   "file_extension": ".py",
   "mimetype": "text/x-python",
   "name": "python",
   "nbconvert_exporter": "python",
   "pygments_lexer": "ipython3",
   "version": "3.6.1"
  }
 },
 "nbformat": 4,
 "nbformat_minor": 2
}
