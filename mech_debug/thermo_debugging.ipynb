{
 "cells": [
  {
   "cell_type": "code",
   "execution_count": null,
   "metadata": {
    "collapsed": true
   },
   "outputs": [],
   "source": [
    "import cantera as ct\n",
    "import cantera.ck2cti as ck2cti\n",
    "import numpy as np\n",
    "import matplotlib.pyplot as plt\n",
    "%matplotlib notebook"
   ]
  },
  {
   "cell_type": "markdown",
   "metadata": {},
   "source": [
    "## Converting from Chemkin"
   ]
  },
  {
   "cell_type": "code",
   "execution_count": null,
   "metadata": {
    "collapsed": false
   },
   "outputs": [],
   "source": [
    "# command line equivalent:\n",
    "# python -m cantera.ck2cti --input=mech.txt --thermo=thermo.txt --transport=tran.txt --permissive --out=mech.cti\n",
    "parser = ck2cti.Parser()\n",
    "#parser.convertMech('mech.txt', 'thermo.txt', 'tran.txt', outName='mech.cti')\n",
    "#parser.convertMech('mech_fixed.txt', 'thermo.txt', 'tran.txt', outName='mech.cti')\n",
    "#parser.convertMech('mech_fixed.txt', 'thermo_fix.txt', 'tran.txt', outName='mech.cti')\n",
    "parser.convertMech('mech_fixed.txt', 'thermo_fixed.txt', 'tran.txt', permissive=True, outName='mech.cti')"
   ]
  },
  {
   "cell_type": "markdown",
   "metadata": {},
   "source": [
    "## Thermo Data"
   ]
  },
  {
   "cell_type": "code",
   "execution_count": null,
   "metadata": {
    "collapsed": false
   },
   "outputs": [],
   "source": [
    "gas = ct.Solution('mech.cti')"
   ]
  },
  {
   "cell_type": "code",
   "execution_count": null,
   "metadata": {
    "collapsed": false
   },
   "outputs": [],
   "source": [
    "sp = gas.species('H2CNO')\n",
    "T = np.linspace(600, 2000, 200)\n",
    "f,ax = plt.subplots(1,3, figsize=(8,3.5))\n",
    "\n",
    "def plot_thermo(thermo):\n",
    "    h = [thermo.h(tt)/(ct.gas_constant * tt) for tt in T]\n",
    "    cp = [thermo.cp(tt)/ct.gas_constant for tt in T]\n",
    "    s = [thermo.s(tt)/ct.gas_constant for tt in T]\n",
    "    ax[0].plot(T,cp)\n",
    "    ax[0].set_title('$c_p/R$')\n",
    "    ax[1].plot(T,h)\n",
    "    ax[1].set_title('$h/RT$')\n",
    "    ax[2].plot(T,s)\n",
    "    ax[2].set_title('$s/R$')\n",
    "    f.tight_layout()\n",
    "plot_thermo(sp.thermo)"
   ]
  },
  {
   "cell_type": "code",
   "execution_count": null,
   "metadata": {
    "collapsed": false
   },
   "outputs": [],
   "source": [
    "c0 = sp.thermo.coeffs\n",
    "c0"
   ]
  },
  {
   "cell_type": "code",
   "execution_count": null,
   "metadata": {
    "collapsed": false
   },
   "outputs": [],
   "source": [
    "c0[0] = 1200\n",
    "test = ct.NasaPoly2(sp.thermo.min_temp, sp.thermo.max_temp, sp.thermo.reference_pressure, c0)\n",
    "plot_thermo(test)"
   ]
  },
  {
   "cell_type": "code",
   "execution_count": null,
   "metadata": {
    "collapsed": true
   },
   "outputs": [],
   "source": [
    "c0[0] = 1000\n",
    "test = ct.NasaPoly2(sp.thermo.min_temp, sp.thermo.max_temp, sp.thermo.reference_pressure, c0)\n",
    "plot_thermo(test)"
   ]
  },
  {
   "cell_type": "markdown",
   "metadata": {},
   "source": [
    "## Reaction Rates"
   ]
  },
  {
   "cell_type": "code",
   "execution_count": null,
   "metadata": {
    "collapsed": true
   },
   "outputs": [],
   "source": [
    "gas.TPX = 300, 101325, 'CH4:1.0, O2:0.1'\n",
    "gas.equilibrate('TP')"
   ]
  },
  {
   "cell_type": "code",
   "execution_count": null,
   "metadata": {
    "collapsed": false
   },
   "outputs": [],
   "source": [
    "f,ax = plt.subplots(1,1)\n",
    "ax.semilogy(gas.forward_rate_constants, 'b.')\n",
    "ax.semilogy(gas.reverse_rate_constants, 'r.')\n",
    "ax.set_ylim(ymin=1e-30)\n",
    "f.tight_layout()"
   ]
  },
  {
   "cell_type": "code",
   "execution_count": null,
   "metadata": {
    "collapsed": false
   },
   "outputs": [],
   "source": [
    "kr = gas.reverse_rate_constants\n",
    "for i,k in enumerate(kr):\n",
    "    if k > 1e20:\n",
    "        print(i,k, gas.reaction_equation(i))"
   ]
  },
  {
   "cell_type": "code",
   "execution_count": null,
   "metadata": {
    "collapsed": false
   },
   "outputs": [],
   "source": [
    "gri = ct.Solution('gri30.cti')\n",
    "for i,r in enumerate(gri.reactions()):\n",
    "    if 'CH3' in r and 'H2' in r and 'CH' in r:\n",
    "        print(i, r)"
   ]
  },
  {
   "cell_type": "code",
   "execution_count": null,
   "metadata": {
    "collapsed": false,
    "scrolled": false
   },
   "outputs": [],
   "source": [
    "gasN = ct.SolutionArray(gas, shape=200)\n",
    "griN = ct.SolutionArray(gri, shape=200)\n",
    "T = np.linspace(300, 3000, 200)\n",
    "gasN.TPY = T, 101325, 'N2:1.0'\n",
    "griN.TPY = T, 101325, 'N2:1.0'\n",
    "\n",
    "f,ax = plt.subplots(1,1, figsize=(5,4))\n",
    "ax.semilogy(1000/T, gasN.forward_rate_constants[:,295], label='mech, forward')\n",
    "ax.semilogy(1000/T, gasN.reverse_rate_constants[:,295], label='mech, reverse')\n",
    "ax.semilogy(1000/T, griN.forward_rate_constants[:,288], '--', label='GRI3.0, forward')\n",
    "ax.semilogy(1000/T, griN.reverse_rate_constants[:,288], '--', label='GRI3.0, reverse')\n",
    "ax.legend(loc='best')\n",
    "ax.grid(True)\n",
    "f.tight_layout()"
   ]
  },
  {
   "cell_type": "code",
   "execution_count": null,
   "metadata": {
    "collapsed": true
   },
   "outputs": [],
   "source": []
  }
 ],
 "metadata": {
  "kernelspec": {
   "display_name": "Python 3",
   "language": "python",
   "name": "python3"
  },
  "language_info": {
   "codemirror_mode": {
    "name": "ipython",
    "version": 3
   },
   "file_extension": ".py",
   "mimetype": "text/x-python",
   "name": "python",
   "nbconvert_exporter": "python",
   "pygments_lexer": "ipython3",
   "version": "3.6.0"
  }
 },
 "nbformat": 4,
 "nbformat_minor": 2
}
