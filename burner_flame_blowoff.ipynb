{
 "cells": [
  {
   "cell_type": "code",
   "execution_count": null,
   "metadata": {
    "collapsed": true
   },
   "outputs": [],
   "source": [
    "import cantera as ct\n",
    "import numpy as np\n",
    "import matplotlib.pyplot as plt\n",
    "%matplotlib notebook"
   ]
  },
  {
   "cell_type": "code",
   "execution_count": null,
   "metadata": {
    "collapsed": false
   },
   "outputs": [],
   "source": [
    "def setup():\n",
    "    # parameter values\n",
    "    p = ct.one_atm  # pressure\n",
    "    tburner = 300.0  # burner temperature\n",
    "    mdot = 1.2 # kg/m^2/s\n",
    "    width = 0.05 # m\n",
    "\n",
    "    gas = ct.Solution('h2o2.cti')\n",
    "\n",
    "    # set state to that of the unburned gas at the burner\n",
    "    gas.set_equivalence_ratio(0.4, 'H2', 'O2:1.0, AR:5') # unsucessful\n",
    "    # gas.set_equivalence_ratio(0.6, 'H2', 'O2:1.0, AR:5') # successful solve\n",
    "    gas.TP = tburner, p\n",
    "\n",
    "    # Create the stagnation flow object with a non-reactive surface.\n",
    "    sim = ct.BurnerFlame(gas=gas, width=width)\n",
    "    # set the mass flow rate at the inlet\n",
    "    sim.burner.mdot = mdot\n",
    "    sim.set_refine_criteria(ratio=3, slope=0.16, curve=0.3, prune=0.1)\n",
    "    return sim"
   ]
  },
  {
   "cell_type": "code",
   "execution_count": null,
   "metadata": {
    "collapsed": false,
    "scrolled": false
   },
   "outputs": [],
   "source": [
    "sim = setup()\n",
    "sim.solve(loglevel=1, auto=False)"
   ]
  },
  {
   "cell_type": "code",
   "execution_count": null,
   "metadata": {
    "collapsed": false
   },
   "outputs": [],
   "source": [
    "sim.show_stats()"
   ]
  },
  {
   "cell_type": "code",
   "execution_count": null,
   "metadata": {
    "collapsed": false
   },
   "outputs": [],
   "source": [
    "sim = setup()\n",
    "\n",
    "# Use callback function to collect and plot data after each steady solve\n",
    "fig,ax = plt.subplots(1,1, figsize=(6,4))\n",
    "def callback(x):\n",
    "    ax.plot(sim.grid, sim.T)\n",
    "    fig.canvas.draw()\n",
    "    return 0\n",
    "\n",
    "sim.set_steady_callback(callback)"
   ]
  },
  {
   "cell_type": "code",
   "execution_count": null,
   "metadata": {
    "collapsed": false
   },
   "outputs": [],
   "source": [
    "sim.solve(loglevel=0, auto=False)"
   ]
  },
  {
   "cell_type": "code",
   "execution_count": null,
   "metadata": {
    "collapsed": true
   },
   "outputs": [],
   "source": []
  }
 ],
 "metadata": {
  "kernelspec": {
   "display_name": "Python 3",
   "language": "python",
   "name": "python3"
  },
  "language_info": {
   "codemirror_mode": {
    "name": "ipython",
    "version": 3
   },
   "file_extension": ".py",
   "mimetype": "text/x-python",
   "name": "python",
   "nbconvert_exporter": "python",
   "pygments_lexer": "ipython3",
   "version": "3.6.0"
  }
 },
 "nbformat": 4,
 "nbformat_minor": 2
}
